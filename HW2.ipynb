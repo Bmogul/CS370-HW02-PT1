{
  "cells": [
    {
      "cell_type": "markdown",
      "metadata": {
        "id": "view-in-github",
        "colab_type": "text"
      },
      "source": [
        "<a href=\"https://colab.research.google.com/github/Bmogul/CS370-HW02-PT1/blob/main/HW2.ipynb\" target=\"_parent\"><img src=\"https://colab.research.google.com/assets/colab-badge.svg\" alt=\"Open In Colab\"/></a>"
      ]
    },
    {
      "cell_type": "code",
      "execution_count": null,
      "metadata": {
        "id": "iz14_fVC4G5i"
      },
      "outputs": [],
      "source": [
        "import pandas as pd\n",
        "import numpy as np\n",
        "import matplotlib.pyplot as plt\n",
        "import matplotlib as mpl\n",
        "from sklearn.preprocessing import add_dummy_feature\n",
        "from sklearn.model_selection import train_test_split\n",
        "from sklearn.metrics import mean_squared_error\n",
        "\n",
        "dataset_url = \"https://raw.githubusercontent.com/plotly/datasets/master/imports-85.csv\"\n",
        "df = pd.read_csv(dataset_url)\n",
        "target_variable_column = df[['city-mpg']]\n",
        "feature_columns = df[['curb-weight', 'engine-size']]\n",
        "\n"
      ]
    },
    {
      "cell_type": "code",
      "execution_count": null,
      "metadata": {
        "id": "TP4C-7zA-Ill"
      },
      "outputs": [],
      "source": [
        "# Convert selected columns to a NumPy array\n",
        "y = target_variable_column.values\n",
        "X = feature_columns.values\n",
        "\n",
        "# Perform standardization\n",
        "mean = np.mean(X, axis=0)\n",
        "std = np.std(X, axis=0)\n",
        "X_standardized = (X - mean) / std\n",
        "# Adding bias term\n",
        "X = add_dummy_feature(X_standardized)\n",
        "\n",
        "# Hyperparameters\n",
        "n_epochs = 50\n",
        "t0, t1 = 5, 50\n",
        "def learning_schedule(t):\n",
        "    return t0 / (t + t1)\n",
        "\n",
        "lambda_ = 0.001  # L2 regularization strength\n",
        "np.random.seed(12)\n",
        "\n",
        "m, n = X.shape\n",
        "theta = np.random.randn(n, 1)  # Initialize theta\n",
        "\n",
        "theta_path_sgd = []"
      ]
    },
    {
      "cell_type": "code",
      "execution_count": null,
      "metadata": {
        "colab": {
          "base_uri": "https://localhost:8080/",
          "height": 88
        },
        "id": "U43BhG5cAoQg",
        "outputId": "da7216c9-d456-45b7-ae06-9a579c66f351"
      },
      "outputs": [
        {
          "output_type": "stream",
          "name": "stdout",
          "text": [
            "[[25.46884162]\n",
            " [-4.65084769]\n",
            " [-0.2194281 ]]\n"
          ]
        },
        {
          "output_type": "display_data",
          "data": {
            "text/plain": [
              "<Figure size 800x600 with 0 Axes>"
            ]
          },
          "metadata": {}
        }
      ],
      "source": [
        "from mpl_toolkits.mplot3d import Axes3D\n",
        "\n",
        "# Create a figure and 3D axis for plotting\n",
        "fig = plt.figure(figsize=(8, 6))\n",
        "#ax = fig.add_subplot(111, projection='3d')\n",
        "\n",
        "\n",
        "for epoch in range(n_epochs):\n",
        "    for i in range(m):\n",
        "        random_index = np.random.randint(m)\n",
        "        xi = X[random_index:random_index + 1]\n",
        "        yi = y[random_index:random_index + 1]\n",
        "        # Compute the gradient of the L2-regularized cost function\n",
        "        gradients = 2 * xi.T @ (xi @ theta - yi) + 2 * lambda_ * theta\n",
        "        # Update theta using the learning rate and gradients\n",
        "        eta = learning_schedule(epoch * m + i)\n",
        "        theta = theta - eta * gradients\n",
        "        theta_path_sgd.append(theta)  # extra code – to generate the figure\n",
        "\n",
        "print(theta)"
      ]
    }
  ],
  "metadata": {
    "colab": {
      "provenance": [],
      "authorship_tag": "ABX9TyOzyfzNznGlW3sFTj4QmvNk",
      "include_colab_link": true
    },
    "kernelspec": {
      "display_name": "Python 3",
      "name": "python3"
    },
    "language_info": {
      "name": "python"
    }
  },
  "nbformat": 4,
  "nbformat_minor": 0
}