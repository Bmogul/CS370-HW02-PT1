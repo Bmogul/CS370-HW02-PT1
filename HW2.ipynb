{
  "cells": [
    {
      "cell_type": "markdown",
      "metadata": {
        "id": "view-in-github",
        "colab_type": "text"
      },
      "source": [
        "<a href=\"https://colab.research.google.com/github/Bmogul/CS370-HW02-PT1/blob/main/HW2.ipynb\" target=\"_parent\"><img src=\"https://colab.research.google.com/assets/colab-badge.svg\" alt=\"Open In Colab\"/></a>"
      ]
    },
    {
      "cell_type": "markdown",
      "source": [
        "# SGD for Linear Regression\n",
        "\n",
        "Predict the miles per gallon from the curb weight and engine size, using Stochastic Gradient Descent and a linear model with L2 regularization"
      ],
      "metadata": {
        "id": "uLcNruw0koXo"
      }
    },
    {
      "cell_type": "code",
      "execution_count": 222,
      "metadata": {
        "id": "iz14_fVC4G5i"
      },
      "outputs": [],
      "source": [
        "import pandas as pd\n",
        "import numpy as np\n",
        "import matplotlib.pyplot as plt\n",
        "from sklearn.preprocessing import add_dummy_feature\n",
        "\n",
        "dataset_url = \"https://raw.githubusercontent.com/plotly/datasets/master/imports-85.csv\"\n",
        "df = pd.read_csv(dataset_url)\n",
        "pd.set_option('display.max_columns', None)  # Show all columns\n",
        "df.head(10)\n",
        "\n",
        "target_variable_column = df[['city-mpg']]\n",
        "feature_columns = df[['curb-weight', 'engine-size']]\n",
        "\n"
      ]
    },
    {
      "cell_type": "markdown",
      "source": [
        "## SGD From Scratch"
      ],
      "metadata": {
        "id": "3kGfWLiolNCI"
      }
    },
    {
      "cell_type": "code",
      "execution_count": 223,
      "metadata": {
        "id": "TP4C-7zA-Ill"
      },
      "outputs": [],
      "source": [
        "y = target_variable_column.values\n",
        "X = feature_columns.values\n",
        "\n",
        "# Perform standardization\n",
        "mean = np.mean(X, axis=0)\n",
        "std = np.std(X, axis=0)\n",
        "X_standardized = (X - mean) / std\n",
        "\n",
        "# Adding bias term\n",
        "X = add_dummy_feature(X_standardized)\n",
        "\n",
        "# Hyperparameters\n",
        "n_epochs = 1000\n",
        "t0, t1 = 5, 100\n",
        "def learning_schedule(t):\n",
        "    return t0 / (t + t1)\n",
        "\n",
        "lambda_ = 0.001\n",
        "np.random.seed(12)\n",
        "\n",
        "m, n = X.shape\n",
        "theta = np.random.randn(n, 1)\n",
        "\n",
        "theta_path_sgd = []"
      ]
    },
    {
      "cell_type": "code",
      "execution_count": 224,
      "metadata": {
        "colab": {
          "base_uri": "https://localhost:8080/"
        },
        "id": "U43BhG5cAoQg",
        "outputId": "72239530-99a5-43de-b646-d8600afb026a"
      },
      "outputs": [
        {
          "output_type": "stream",
          "name": "stdout",
          "text": [
            "[[25.18047864]\n",
            " [-4.76048531]\n",
            " [-0.21058652]]\n"
          ]
        }
      ],
      "source": [
        "for epoch in range(n_epochs):\n",
        "    for i in range(m):\n",
        "        random_index = np.random.randint(m)\n",
        "        xi = X[random_index:random_index + 1]\n",
        "        yi = y[random_index:random_index + 1]\n",
        "\n",
        "        gradients = 2 * xi.T @ (xi @ theta - yi) + 2 * lambda_ * theta\n",
        "\n",
        "        eta = learning_schedule(epoch * m + i)\n",
        "        theta = theta - eta * gradients\n",
        "        theta_path_sgd.append(theta)  # extra code – to generate the figure\n",
        "\n",
        "print(theta)\n",
        "plt.show()"
      ]
    },
    {
      "cell_type": "markdown",
      "source": [
        "## SGD using Scikit-learn\n",
        "doing sckit learn to compare results"
      ],
      "metadata": {
        "id": "_YSRAWkelRr0"
      }
    },
    {
      "cell_type": "code",
      "source": [
        "from sklearn.model_selection import train_test_split\n",
        "from sklearn.preprocessing import StandardScaler\n",
        "from sklearn.linear_model import SGDRegressor\n",
        "from sklearn.metrics import mean_squared_error\n",
        "\n",
        "X_train, X_test, y_train, y_test = train_test_split(X, y, test_size=0.2, random_state=12)\n",
        "\n",
        "scaler = StandardScaler()\n",
        "X_train_scaled = scaler.fit_transform(X_train)\n",
        "X_test_scaled = scaler.transform(X_test)\n",
        "\n",
        "\n",
        "sgd_regressor = SGDRegressor(loss='squared_error', penalty='l2', alpha=0.001, max_iter=1000, random_state=42)\n",
        "\n",
        "sgd_regressor.fit(X_train_scaled, y_train)\n",
        "\n",
        "y_pred = sgd_regressor.predict(X_test_scaled)\n",
        "\n",
        "thetaSci = sgd_regressor.coef_\n",
        "intercept = sgd_regressor.intercept_\n",
        "\n",
        "\n"
      ],
      "metadata": {
        "id": "jsUdyycaj5hB"
      },
      "execution_count": null,
      "outputs": []
    },
    {
      "cell_type": "markdown",
      "source": [
        "## Comparing results\n",
        "\n"
      ],
      "metadata": {
        "id": "PFnsrab4pM1L"
      }
    },
    {
      "cell_type": "code",
      "source": [
        "print(\"Results from custom SGD\")\n",
        "print(\"Coefficients: \", [theta[0][0], theta[1][0], theta[2][0]])\n",
        "print(\"Results from Scikit SGD\")\n",
        "print(\"Coefficients: \", [intercept[0], thetaSci[1], thetaSci[2]])"
      ],
      "metadata": {
        "colab": {
          "base_uri": "https://localhost:8080/"
        },
        "id": "toqRoTdjpO6r",
        "outputId": "12b3b85a-16b0-4ed7-8613-ba3105c28341"
      },
      "execution_count": 226,
      "outputs": [
        {
          "output_type": "stream",
          "name": "stdout",
          "text": [
            "Results from custom SGD\n",
            "Coefficients:  [25.18047864128627, -4.760485314367644, -0.2105865158548563]\n",
            "Results from Scikit SGD\n",
            "Coefficients:  [25.01004106528082, -4.663747231721163, -0.38654885667153177]\n"
          ]
        }
      ]
    }
  ],
  "metadata": {
    "colab": {
      "provenance": [],
      "authorship_tag": "ABX9TyPf8T8zjMNU0oYRD4+00Uec",
      "include_colab_link": true
    },
    "kernelspec": {
      "display_name": "Python 3",
      "name": "python3"
    },
    "language_info": {
      "name": "python"
    }
  },
  "nbformat": 4,
  "nbformat_minor": 0
}